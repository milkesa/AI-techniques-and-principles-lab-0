{
 "cells": [
  {
   "cell_type": "code",
   "execution_count": null,
   "id": "fa3b1bfb",
   "metadata": {},
   "outputs": [],
   "source": [
    "class: \"EvalTest\"\n",
    "success: \"add(a,b) returns the sum of a and b\"\n",
    "failure: \"add(a,b) must return the sum of a and b\"\n",
    "\n",
    "# A python expression to be evaluated.  This expression must return the \n",
    "# same result for the student and instructor's code.\n",
    "test: \"addition.add(10,-2.1)\""
   ]
  }
 ],
 "metadata": {
  "kernelspec": {
   "display_name": "Python 3 (ipykernel)",
   "language": "python",
   "name": "python3"
  },
  "language_info": {
   "codemirror_mode": {
    "name": "ipython",
    "version": 3
   },
   "file_extension": ".py",
   "mimetype": "text/x-python",
   "name": "python",
   "nbconvert_exporter": "python",
   "pygments_lexer": "ipython3",
   "version": "3.9.7"
  }
 },
 "nbformat": 4,
 "nbformat_minor": 5
}
