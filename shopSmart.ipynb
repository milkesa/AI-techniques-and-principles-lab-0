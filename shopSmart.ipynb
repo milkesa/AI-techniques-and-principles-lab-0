{
 "cells": [
  {
   "cell_type": "code",
   "execution_count": null,
   "id": "50bb40b5",
   "metadata": {},
   "outputs": [],
   "source": [
    "# shopSmart.py\n",
    "# ------------\n",
    "# Licensing Information:  You are free to use or extend these projects for\n",
    "# educational purposes provided that (1) you do not distribute or publish\n",
    "# solutions, (2) you retain this notice, and (3) you provide clear\n",
    "# attribution to UC Berkeley, including a link to http://ai.berkeley.edu.\n",
    "# \n",
    "# Attribution Information: The Pacman AI projects were developed at UC Berkeley.\n",
    "# The core projects and autograders were primarily created by John DeNero\n",
    "# (denero@cs.berkeley.edu) and Dan Klein (klein@cs.berkeley.edu).\n",
    "# Student side autograding was added by Brad Miller, Nick Hay, and\n",
    "# Pieter Abbeel (pabbeel@cs.berkeley.edu).\n",
    "\n",
    "\n",
    "\"\"\"\n",
    "Here's the intended output of this script, once you fill it in:\n",
    "\n",
    "Welcome to shop1 fruit shop\n",
    "Welcome to shop2 fruit shop\n",
    "For orders:  [('apples', 1.0), ('oranges', 3.0)] best shop is shop1\n",
    "For orders:  [('apples', 3.0)] best shop is shop2\n",
    "\"\"\"\n",
    "from __future__ import print_function\n",
    "import shop\n",
    "\n",
    "\n",
    "def shopSmart(orderList, fruitShops):\n",
    "    \"\"\"\n",
    "        orderList: List of (fruit, numPound) tuples\n",
    "        fruitShops: List of FruitShops\n",
    "    \"\"\"\n",
    "    \"*** YOUR CODE HERE ***\"\n",
    "    cheapShop = fruitShops[0]\n",
    "    for fruitShop in fruitShops:\n",
    "        if fruitShop.getPriceOfOrder(orderList)<cheapShop.getPriceOfOrder(orderList):\n",
    "            cheapShop=fruitShop\n",
    "    return cheapShop\n",
    "        \n",
    "\n",
    "\n",
    "if __name__ == '__main__':\n",
    "    \"This code runs when you invoke the script from the command line\"\n",
    "    orders = [('apples', 1.0), ('oranges', 3.0)]\n",
    "    dir1 = {'apples': 2.0, 'oranges': 1.0}\n",
    "    shop1 = shop.FruitShop('shop1', dir1)\n",
    "    dir2 = {'apples': 1.0, 'oranges': 5.0}\n",
    "    shop2 = shop.FruitShop('shop2', dir2)\n",
    "    shops = [shop1, shop2]\n",
    "    print(\"For orders \", orders, \", the best shop is\", shopSmart(orders, shops).getName())\n",
    "    orders = [('apples', 3.0)]\n",
    "    print(\"For orders: \", orders, \", the best shop is\", shopSmart(orders, shops).getName())"
   ]
  }
 ],
 "metadata": {
  "kernelspec": {
   "display_name": "Python 3 (ipykernel)",
   "language": "python",
   "name": "python3"
  },
  "language_info": {
   "codemirror_mode": {
    "name": "ipython",
    "version": 3
   },
   "file_extension": ".py",
   "mimetype": "text/x-python",
   "name": "python",
   "nbconvert_exporter": "python",
   "pygments_lexer": "ipython3",
   "version": "3.9.7"
  }
 },
 "nbformat": 4,
 "nbformat_minor": 5
}
