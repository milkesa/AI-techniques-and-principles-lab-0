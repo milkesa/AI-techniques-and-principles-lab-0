{
 "cells": [
  {
   "cell_type": "code",
   "execution_count": null,
   "id": "28ef0b0d",
   "metadata": {},
   "outputs": [],
   "source": [
    "class: \"EvalTest\"\n",
    "success: \"shopSmart(order, shops) selects the cheapest shop\"\n",
    "failure: \"shopSmart(order, shops) must select the cheapest shop\"\n",
    "\n",
    "# Python statements initializing variables for the test below.\n",
    "preamble: \"\"\"\n",
    "import shop\n",
    "\n",
    "dir1 = {'apples': 2.0, 'oranges':1.0}\n",
    "shop1 =  shop.FruitShop('shop1',dir1)\n",
    "dir2 = {'apples': 1.0, 'oranges': 5.0}\n",
    "shop2 = shop.FruitShop('shop2',dir2)\n",
    "shops = [shop1, shop2]\n",
    "\n",
    "order = [('apples',3.0)]\n",
    "ans = shopSmart.shopSmart(order, shops)\n",
    "\"\"\"\n",
    "\n",
    "# A python expression to be evaluated.  This expression must return the \n",
    "# same result for the student and instructor's code.\n",
    "test: \"ans\""
   ]
  }
 ],
 "metadata": {
  "kernelspec": {
   "display_name": "Python 3 (ipykernel)",
   "language": "python",
   "name": "python3"
  },
  "language_info": {
   "codemirror_mode": {
    "name": "ipython",
    "version": 3
   },
   "file_extension": ".py",
   "mimetype": "text/x-python",
   "name": "python",
   "nbconvert_exporter": "python",
   "pygments_lexer": "ipython3",
   "version": "3.9.7"
  }
 },
 "nbformat": 4,
 "nbformat_minor": 5
}
