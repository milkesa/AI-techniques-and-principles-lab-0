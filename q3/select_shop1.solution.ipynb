{
 "cells": [
  {
   "cell_type": "code",
   "execution_count": null,
   "id": "7d9c2d04",
   "metadata": {},
   "outputs": [],
   "source": [
    "# This is the solution file for test_cases/q3/select_shop1.test.\n",
    "# The result of evaluating the test must equal the below when cast to a string.\n",
    "result: \"<FruitShop: shop1>\""
   ]
  }
 ],
 "metadata": {
  "kernelspec": {
   "display_name": "Python 3 (ipykernel)",
   "language": "python",
   "name": "python3"
  },
  "language_info": {
   "codemirror_mode": {
    "name": "ipython",
    "version": 3
   },
   "file_extension": ".py",
   "mimetype": "text/x-python",
   "name": "python",
   "nbconvert_exporter": "python",
   "pygments_lexer": "ipython3",
   "version": "3.9.7"
  }
 },
 "nbformat": 4,
 "nbformat_minor": 5
}
