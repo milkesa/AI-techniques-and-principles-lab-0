{
 "cells": [
  {
   "cell_type": "code",
   "execution_count": null,
   "id": "8c3b1638",
   "metadata": {},
   "outputs": [],
   "source": [
    "# This is the solution file for test_cases/q2/food_price1.test.\n",
    "# The result of evaluating the test must equal the below when cast to a string.\n",
    "result: \"12.25\""
   ]
  }
 ],
 "metadata": {
  "kernelspec": {
   "display_name": "Python 3 (ipykernel)",
   "language": "python",
   "name": "python3"
  },
  "language_info": {
   "codemirror_mode": {
    "name": "ipython",
    "version": 3
   },
   "file_extension": ".py",
   "mimetype": "text/x-python",
   "name": "python",
   "nbconvert_exporter": "python",
   "pygments_lexer": "ipython3",
   "version": "3.9.7"
  }
 },
 "nbformat": 4,
 "nbformat_minor": 5
}
