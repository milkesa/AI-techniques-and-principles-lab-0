{
 "cells": [
  {
   "cell_type": "code",
   "execution_count": null,
   "id": "7c630393",
   "metadata": {},
   "outputs": [],
   "source": [
    "class: \"EvalTest\"\n",
    "success: \"buyLotsOfFruit correctly computes the cost of the order\"\n",
    "failure: \"buyLotsOfFruit must compute the correct cost of the order\"\n",
    "\n",
    "# A python expression to be evaluated.  This expression must return the \n",
    "# same result for the student and instructor's code.\n",
    "test: \"buyLotsOfFruit.buyLotsOfFruit([ ('apples', 2.0), ('pears',3.0), ('limes',4.0) ])\""
   ]
  }
 ],
 "metadata": {
  "kernelspec": {
   "display_name": "Python 3 (ipykernel)",
   "language": "python",
   "name": "python3"
  },
  "language_info": {
   "codemirror_mode": {
    "name": "ipython",
    "version": 3
   },
   "file_extension": ".py",
   "mimetype": "text/x-python",
   "name": "python",
   "nbconvert_exporter": "python",
   "pygments_lexer": "ipython3",
   "version": "3.9.7"
  }
 },
 "nbformat": 4,
 "nbformat_minor": 5
}
