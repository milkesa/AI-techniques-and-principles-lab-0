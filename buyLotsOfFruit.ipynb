{
 "cells": [
  {
   "cell_type": "code",
   "execution_count": null,
   "id": "65d09071",
   "metadata": {},
   "outputs": [],
   "source": [
    "# buyLotsOfFruit.py\n",
    "# -----------------\n",
    "# Licensing Information:  You are free to use or extend these projects for\n",
    "# educational purposes provided that (1) you do not distribute or publish\n",
    "# solutions, (2) you retain this notice, and (3) you provide clear\n",
    "# attribution to UC Berkeley, including a link to http://ai.berkeley.edu.\n",
    "# \n",
    "# Attribution Information: The Pacman AI projects were developed at UC Berkeley.\n",
    "# The core projects and autograders were primarily created by John DeNero\n",
    "# (denero@cs.berkeley.edu) and Dan Klein (klein@cs.berkeley.edu).\n",
    "# Student side autograding was added by Brad Miller, Nick Hay, and\n",
    "# Pieter Abbeel (pabbeel@cs.berkeley.edu).\n",
    "\n",
    "\n",
    "\"\"\"\n",
    "To run this script, type\n",
    "\n",
    "  python buyLotsOfFruit.py\n",
    "\n",
    "Once you have correctly implemented the buyLotsOfFruit function,\n",
    "the script should produce the output:\n",
    "\n",
    "Cost of [('apples', 2.0), ('pears', 3.0), ('limes', 4.0)] is 12.25\n",
    "\"\"\"\n",
    "from __future__ import print_function\n",
    "\n",
    "fruitPrices = {'apples': 2.00, 'oranges': 1.50, 'pears': 1.75,\n",
    "               'limes': 0.75, 'strawberries': 1.00}\n",
    "\n",
    "\n",
    "def buyLotsOfFruit(orderList):\n",
    "    \"\"\"\n",
    "        orderList: List of (fruit, numPounds) tuples\n",
    "\n",
    "    Returns cost of order\n",
    "    \"\"\"\n",
    "    totalCost = 0.0\n",
    "    \"*** YOUR CODE HERE ***\"\n",
    "    for fruit,num in orderList:\n",
    "        if fruit not in fruitPrices:\n",
    "            return None\n",
    "        totalCost += (fruitPrices[fruit] * num)\n",
    "    \n",
    "    return totalCost\n",
    "\n",
    "\n",
    "# Main Method\n",
    "if __name__ == '__main__':\n",
    "    \"This code runs when you invoke the script from the command line\"\n",
    "    orderList = [('apples', 2.0), ('pears', 3.0), ('limes', 4.0)]\n",
    "    print('Cost of', orderList, 'is', buyLotsOfFruit(orderList))"
   ]
  }
 ],
 "metadata": {
  "kernelspec": {
   "display_name": "Python 3 (ipykernel)",
   "language": "python",
   "name": "python3"
  },
  "language_info": {
   "codemirror_mode": {
    "name": "ipython",
    "version": 3
   },
   "file_extension": ".py",
   "mimetype": "text/x-python",
   "name": "python",
   "nbconvert_exporter": "python",
   "pygments_lexer": "ipython3",
   "version": "3.9.7"
  }
 },
 "nbformat": 4,
 "nbformat_minor": 5
}
